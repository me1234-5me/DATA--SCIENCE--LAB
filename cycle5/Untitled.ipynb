{
 "cells": [
  {
   "cell_type": "code",
   "execution_count": null,
   "id": "730b1de9",
   "metadata": {},
   "outputs": [],
   "source": [
    "with open(\"tickets.txt\") as f:\n",
    "    tickets = f.read().strip().split(\"\\n\")\n",
    "\n",
    "with open(\"labels_4.txt\") as f:\n",
    "    labels = f.read().strip().split(\"\\n\")"
   ]
  }
 ],
 "metadata": {
  "kernelspec": {
   "display_name": "Python 3 (ipykernel)",
   "language": "python",
   "name": "python3"
  },
  "language_info": {
   "codemirror_mode": {
    "name": "ipython",
    "version": 3
   },
   "file_extension": ".py",
   "mimetype": "text/x-python",
   "name": "python",
   "nbconvert_exporter": "python",
   "pygments_lexer": "ipython3",
   "version": "3.9.7"
  }
 },
 "nbformat": 4,
 "nbformat_minor": 5
}
